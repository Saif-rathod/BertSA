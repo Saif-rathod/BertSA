{
 "cells": [
  {
   "cell_type": "code",
   "execution_count": 169,
   "metadata": {},
   "outputs": [],
   "source": [
    "from transformers import AutoTokenizer, AutoModelForSequenceClassification\n",
    "import torch\n",
    "import requests\n",
    "from bs4 import BeautifulSoup\n",
    "import re"
   ]
  },
  {
   "cell_type": "code",
   "execution_count": 170,
   "metadata": {},
   "outputs": [],
   "source": [
    "tokenizer = AutoTokenizer.from_pretrained(\"nlptown/bert-base-multilingual-uncased-sentiment\")\n",
    "\n",
    "model = AutoModelForSequenceClassification.from_pretrained(\"nlptown/bert-base-multilingual-uncased-sentiment\")  "
   ]
  },
  {
   "cell_type": "code",
   "execution_count": 171,
   "metadata": {},
   "outputs": [],
   "source": [
    "tokens = tokenizer.encode(\"I like the food, but could've been better\" , return_tensors=\"pt\")"
   ]
  },
  {
   "cell_type": "code",
   "execution_count": 172,
   "metadata": {},
   "outputs": [
    {
     "data": {
      "text/plain": [
       "tensor([[  101,   151, 11531, 10103, 15225,   117, 10502, 12296,   112, 10312,\n",
       "         10662, 16197,   102]])"
      ]
     },
     "execution_count": 172,
     "metadata": {},
     "output_type": "execute_result"
    }
   ],
   "source": [
    "tokens"
   ]
  },
  {
   "cell_type": "code",
   "execution_count": 173,
   "metadata": {},
   "outputs": [
    {
     "data": {
      "text/plain": [
       "\"[CLS] i like the food, but could've been better [SEP]\""
      ]
     },
     "execution_count": 173,
     "metadata": {},
     "output_type": "execute_result"
    }
   ],
   "source": [
    "tokenizer.decode(tokens[0])"
   ]
  },
  {
   "cell_type": "code",
   "execution_count": 174,
   "metadata": {},
   "outputs": [],
   "source": [
    "result = model(tokens)"
   ]
  },
  {
   "cell_type": "code",
   "execution_count": 175,
   "metadata": {},
   "outputs": [
    {
     "data": {
      "text/plain": [
       "tensor([[-2.5290, -0.1687,  2.3435,  1.7045, -1.2451]],\n",
       "       grad_fn=<AddmmBackward0>)"
      ]
     },
     "execution_count": 175,
     "metadata": {},
     "output_type": "execute_result"
    }
   ],
   "source": [
    "result.logits"
   ]
  },
  {
   "cell_type": "code",
   "execution_count": 176,
   "metadata": {},
   "outputs": [
    {
     "data": {
      "text/plain": [
       "tensor(2)"
      ]
     },
     "execution_count": 176,
     "metadata": {},
     "output_type": "execute_result"
    }
   ],
   "source": [
    "torch.argmax(result.logits)"
   ]
  },
  {
   "cell_type": "code",
   "execution_count": 177,
   "metadata": {},
   "outputs": [
    {
     "data": {
      "text/plain": [
       "3"
      ]
     },
     "execution_count": 177,
     "metadata": {},
     "output_type": "execute_result"
    }
   ],
   "source": [
    "int(torch.argmax(result.logits)) + 1 "
   ]
  },
  {
   "cell_type": "code",
   "execution_count": 185,
   "metadata": {},
   "outputs": [],
   "source": [
    "# r = requests.get('https://www.imdb.com/title/tt7286456/reviews?ref_=tt_ql_3')\n",
    "# soup = BeautifulSoup(r.text, 'html.parser')\n",
    "# regex = re.compile('.*comment.*')\n",
    "# results = soup.find_all('p', {'class':regex})\n",
    "# reviews = [result.text for result in results]"
   ]
  },
  {
   "cell_type": "code",
   "execution_count": 193,
   "metadata": {},
   "outputs": [
    {
     "name": "stdout",
     "output_type": "stream",
     "text": [
      "Review 1: There is no doubt that the movie was well thought of - from the plot to execution. I must praise Phoenix's superb acting. He managed to portray very believably the awkward social reject and also the crazy murderer that he became. I really think it's a role only few could do. It was also very interesting to watch how he deteriorated mentally and little by little gave up on trying to fit into society. Gotta hand it to the script writer - the plot was unpredictable.But...There wasn't anything too complex about Arthur's mental state. No deep psychological analysis, or a web of many deep factors that created a one of a kind psychotic maniac. Could it be that I was expecting too much? Very possible since I came with very high expectations after reading some reviews.\n",
      "What doesn't have anything with expectations is that at the end he didn't remind much of the original Joker. He felt more like a simply society reject that went completely crazy and started killing people. Not that much different from many other serial killers or mass murderers. He didn't have the master mind that so much designated the Joker and made him different from a simple murderer.\n",
      "Another thing is that there were long parts of the movie that felt very dull.\n",
      "Also I found it hard to buy the reason behind the riots in the city and the role the Joker played in them. Even if taken into account that the poverty and anger was cooking for a long time in that society, it still feels somewhat absurd that killing three people in the subway made the joker so notorious.\n",
      "In conclusion, I can identify with the character which gave me a lasting impression of the movie, and this movie could have been very great if it was a movie about how a person that's rejected by society turns slowly into a serial killer. But as a movie about the Joker I felt it was lacking. Lacking the things that made the Joker actually the Joker, and not just another crazy murderer.\n",
      "\n",
      "Review 2: The movie affects you in a way that makes it physically painful to experience, but in a good way.\n",
      "\n",
      "Review 3: I thought this film was good but I just don't get the hype personally. The acting was amazing and the film was good overall but I think 'masterpiece' and 'film of the year' are a bit overused throughout the reviews. In no way did I dislike this film, I thought it was really good, just overhyped. I feel as though a lot of the 10/10 reviews are purely based on the fact that it already has amazing reviews and so people want to carry the praise further and that it is about the joker. If this film was released and was about some random guy in the same situation, I don't think the reviews would be as high but maybe that's the point.\n",
      "\n",
      "Review 4: Every once in a while a movie comes, that truly makes an impact. Joaquin's performance and scenography in all it's brilliance. Grotesque, haunting and cringy. Hard to watch at times,... but so mesmerizing, you won't blink an eye watching it. Tragic, but with seriously funny moments. Emotional rollercoaster - sometimes, with multiple emotions popping-up at the same time.this is far from a typical action-riddled predictable super-hero movie - it's a proper psychological thriller/drama, with the single best character development I have ever seen.\n",
      "\n",
      "Review 5: This is a movie that only those who have felt alone and isolated can truly relate to it. You understand the motive and you feel sorry for the character. A lot of people will see this movie and think that it encourages violence. But truly, this movie should encourage each and every one of us to become a better person, treat everyone with respect and make each other feel like they belong in this world, instead of making them feel isolated.\n",
      "\n",
      "Review 6: Truly a masterpiece, The Best Hollywood film of 2019, one of the Best films of the decade... And truly the Best film to bring a comic book so chillingly and realistically to real ife.\n",
      "Remarkable Direction, Cinematography, Music and the Acting.\n",
      "Some people are surprised to find it DISTURBING and VIOLENT, but it's a necessity and message.\n",
      "It's about society and reflects those underappreciated/unrecognized/bullied people, proving they can do something too.\n",
      "The way it shows class difference, corruption and how rich and talented rule others around them is not exaggerated and that's what makes it different.\n",
      "It's BELIEVABLE.\n",
      "There could be multiple JOKERs living in our society that could shake those around them in much bitter way than the film shows making people uncomforting people.\n",
      "Consider this a wake up call, a message, but first a film. A PERFECT film.\n",
      "\n",
      "Review 7: Joaquin Phoenix gives a tour de force performance, fearless and stunning in its emotional depth and physicality. It's impossible to talk about this without referencing Heath Ledger's Oscar-winning performance from The Dark Knight, widely considered the definitive live-action portrayal of the Joker, so let's talk about it. The fact is, everyone is going to be stunned by what Phoenix accomplishes, because it's what many thought impossible - a portrayal that matches and potentially exceeds that of The Dark Knight's Clown Prince of Crime\n",
      "\n",
      "Review 8: Most of the time movies are anticipated like this they end up falling short, way short. Joker is the first time I was more than happy with the hype. Please ignore the complaints of \"pernicious violence\" as they are embarrassing to say the least. We haven't seen a comic movie this real before. If we ever \"deserved\" a better class of criminal - Phillips and Phoenix have delivered. This is dark, Joker IS dark and you will fall in love with the villain as you should. The bad guys are always more romantic anyway.\n",
      "\n",
      "Review 9: Let me start off by saying if Joaquin Phoneix doesn't get his Oscar for this movie. Then the Oscars should be cancelled. Phoneix is amazing as you might've heard from every review ever! But Todd Phillips. Is at his best here. The story lines he takes and visuals are just breathtaking. The score!! Omg the Score! Every time that score came on, I felt very uncomfortable, like something horrible was about to happen. It was GREAT. The Inspirations from Taxi Driver and King of Comedy are there, and add so much for the movie. And I got to be honest. There are scenes that are very violent. And its disturbing. But I honestly expected it to be WAYYYY more violent from all the controversy going on. Overall this movie was GREAT. Come Oscar season, it needs to be nominated for Best Picture, ScreenPlay, Cinematography, Actor, Score and Director\n",
      "\n",
      "Review 10: Do not really understand all the tens here. Sure, a good movie, good acting, nice shooting. But the plot is not so intriguing. At times it is really long and somewhat boring. I needed to double-check the genre to see if this is a drama or what. Crime, drama, thriller it said. I would put it maybe 90% in the drama and rest in thriller.I miss more dialogue, more depth, more substance. The plot is really not more then a somewhat crazy person becoming a bit crazier. Sure there is an undertone in that it is society and the system and the mean character of people that is bringing him down and creating the evil beast which later wants to destroy everything. Absolutely, but I think it is not intriguing story and plot and dialogue enough to give this a ten.Worthy of watching, yes. But not amazing\n",
      "\n",
      "Review 11: I get why some people hate this . It's because of the political message and how some people think that you need get empathy for Arthur's madness. But come on that is not the point and it will never be. Enjoy this masterpiece because Joaquin Phoenix and Todd Phillips overdid themselves with this movie . The acting,music and cinematography are just amazing ! Please enjoy the movie without overthinking it.\n",
      "\n",
      "Review 12: I went into this film expecting an all-time classic based on the reviews I had read & what I ended up watching was just a decent film overall. Phoenix is outstanding...so he definitely did his part. But I feel like if you've seen the trailers you've seen the movie because the best way I can describe this film is it feels like a 2 hour version of the trailer. At 2 hours it's a relatively common runtime, but it felt a lot longer...which isn't good. I'd say this is much more of a rental than a theater movie. Kinda just....eh.\n",
      "\n",
      "Review 13: I know this is an unpopular opinion, but honestly this movie is overrated and boring. 2 hours felt like 3 and a half.I don't buy the whole thing where he is invited to the show. The meta \"standup\" he made was extremely dull and boring. Then gets allowed to broadcast for that long without being interrupted, also being transported in the most shitty police-car ever after that, it's just not believeable enough to me.He also acted the same when he was on meds aswell as off, so that part didn't make sense either. The police must also be really not catching this guy faster after the homocide.It has some good parts but they can be boiled down to maybe 5 minutes.\n",
      "Is this a movie I would watch again? Probably not.\n",
      "\n",
      "Review 14: I have seen Joker yesterday at Venice an early ill-fated screening. We had some trouble with audio that lead to a near-hour delay, but it definitely was worth it.Joker deserved to be presented at Venice Film Festival, an event that regards cinema as a form of art, because this film is far from a blockbuster or a mere entertainer movie, as most films in the genre are.It focuses on the psyche of the main character, as it slowly crumbles under the pressure of society. And thus, Joaquin Phoenix does a wonderful performance, earning almost surely a nomination at the oscars at least.\n",
      "It's a take on the Joker that differs from Ledger's, but I'd say that both are equally as good. The main difference might be that Ledger's joker is a rational that acts insane, while Phoenix's is insane to the root.Despite being a movie about a superhero villain, Joker is much superior to most of the movies of the genre (I'd exclude the Dark Knight Trilogy only, but Joker is easily as good as Nolan's movies, or at least very close). It is a small-scaled film, with a distinct style and cinematography (that cannot but be appreciated) and a set of very cinephile references that however do not feel too forced or overly opressive. (most notable are the similarities to Scorsese's 'Taxi Driver' and his 'The King of Comedy', but also Chaplin's 'Modern Times' is somewhat referenced).I am eager to see more non-comedic efforts by Todd Phillips. This movie was so far probably the best of 2019 (at worst contested so far only by Dolor Y Gloria or Once Upon a Time in Hollywood), and that should be very convincing.\n",
      "\n",
      "Review 15: It's sad that Joaquin missed Oscar for 'The gladiator' as he was very compelling Villain. But I am quite confident he will win it for the 'Joker'. Damn what a movie !!! Keeps u on the toes all the time. Unpredictable storyline and really a deep interesting plot. Did I forget to mention acting ? Damn Do niro and Joaquin teach u what really is 5 star acting.\n",
      "To enjoy this movie, get a wine in your hand, close the curtains, turn of ur cellphones and put do not disturb sign on ur door. Best Dark thriller suspense movie you will get to experience.\n",
      "\n",
      "Review 16: I have just watched the Joker in Venice and I will say if Joaquin doesn't get an Oscar this year then something is wrong with this world. This perfomance is just jaw-dropping, it glues you to the screen and doesn't let go till the end. Story is very good and has some interesting connections with Batman lore(especially one you can't guess from trailers). There are some scenes that are so tense ,well-acted and imaginative that push this movie to 10. Cinematography and direction are great, Todd has proven himself as a director. Robert is also good in his \"small\" role. Will definitely see it again as soon as it out in October.\n",
      "\n",
      "Review 17: This movie causes the audience to consider many topics on morality, particularly the poor choices made by the Joker. The Joker is more relatable in this movie than antagonists usually are. I think this gives a more realistic view of \"bad\" people, who are not usually 100% bad in all ways as society often judges. It is important to know when to sympathize with the Joker (towards the beginning of the movie), and when he needs to be identified as a threat (when he begins making certain bad choices). This movie is only suitable for adults who are willing to pick it apart and think critically about it. It isn't for light amusement. That substance is what makes it so good.If you aren't able to ponder underlying themes on your own, and you have to be handed all your thoughts to you, then this isn't the best movie for you.\n",
      "\n",
      "Review 18: The acting, cinematography, sound design, and the script itself is phenomenal. This movie is a triumph. Joaquin Pheonix deserves an Oscar win for this tbh.\n",
      "\n",
      "Review 19: Need I say more? Everything about this Movie is Masterful in every single way! Joker isn't just an awesome comic book movie, it's an awesome movie, period. It offers no easy answers to the unsettling questions it raises about a cruel society in decline. Joaquin Phoenix's fully committed performance and Todd Phillips' masterful albeit loose reinvention of the DC source material make Joker a film that should leave comic book fans and non-fans alike disturbed and moved in all the right ways.\n",
      "\n",
      "Review 20: When I heard everyone saying that this is the film of the year and all the reviews flooding in with 10's, I was quite hyped and excited for this movie. When I walked out of the cinema, I felt hollow and empty.Before I continue writing, let me say this, This is NOT the film of the year nor is it a real masterpiece. The cinematography is excellent and the acting is incredible, that's just it. The side-characters are bland and overly dramatic. The plot heavily relies on plot-twists and the film is so harsh that it actually falls flat on it's face.Are there no good points though? Phoenix is phenomenal and the score is great. The cinematography is also incredible but the plot is not that great at all. It even has plot holes and scenes that left me empty.Film of the year? Nope.\n",
      "\n",
      "Review 21: I quit relying on critic reviews years ago... I noticed for this movie that the critics ratings were low but viewer ratings were high. That being said, what is the point of a critic when for this movie, they are oh so wrong.\n",
      "I went and saw this tonite with my mom. I went in skeptical and w some what low expectations. I knew not to expect your typical super hero movie.\n",
      "What we got was a masterpiece. I went in expecting sheer boredom and I was instead on the edge of my seat the whole time. Not action edge of your seat, it was a fear of what he may do or say next edge of your seat. To see this character evolve into what we all know as the #1 villain of Batman was beyond genius and Joaquin Phoenix is a true master at perfecting the art of consuming himself into this character. I may be all over the place with this but I don't care. This movie, the story, the acting, directing, effects, everyone brought their A game and JP definitely deserves a nod and win for this role. And no, there is no comparison here to Jack Nicholson or Heath Ledger. Each actor took on this character and different levels, different story points and different points in time, so any comparison would just not be feasible or fair to any of the actors as they embraced him and made him come to life in their own genius way!\n",
      "\n",
      "Review 22: Joaquin Phoenix did everything he could with this material but it just doesn't seem to have a point whether for lack of having one or cowardice to say something. It even is set back in time to avoid being too current.Are the rich bad? Is exploitation bad? Is our viral culture bad? Is how we treat the mentally ill bad? Nothing is seriously discussed or focused on at all and even when it comes closest to these points it undermines them immediately.Then there's the outright plagiarism from The King of Comedy and Taxi Driver.I firmly believe that if this wasn't about the Joker most people wouldn't care one bit.\n",
      "\n",
      "Review 23: All hype and no substance. A pretty mediocre movie hyped up for no reason. Worth a watch if you have a few free hours to spare with nothing better to do or watch, but to rate this above 5 is just crazy.\n",
      "\n",
      "Review 24: I will stop watching movies if Joaquin Phoenix is not awarded Oscar for his tremendous acting.\n",
      "\n",
      "Review 25: Joaquin Phoenix IS the joker. Phoenix gave a performance that felt like a mixture of Heath Ledger's joker, Jack Nicholson's joker, and Alex in A Clockwork Orange:Overall, this movie was a trip to say the least. Cinematography was very good, and the soundtrack set the perfect mood for the film for the most part. The acting and plot are what sold it though. Phoenix made me forget that the character was one I had seen before in other movies. His performance mixed with the overall feel and plot of the movie made me leave the theater feeling like I too had just taken a descent into madness.I've never been a very big fan of superhero movies so I was a little weary going into the movie, but this had absolutely nothing to do with anything superhero related other than the characters. I loved this movie and will definitely see it again. It was just what I hoped it would be.\n",
      "\n"
     ]
    }
   ],
   "source": [
    "\n",
    "def scrape_imdb_reviews(movie_id):\n",
    "    url = f'https://www.imdb.com/title/{movie_id}/reviews?ref_=tt_ql_3'\n",
    "    headers = {\n",
    "        'User-Agent': 'Mozilla/5.0 (Windows NT 10.0; Win64; x64) AppleWebKit/537.36 (KHTML, like Gecko) Chrome/58.0.3029.110 Safari/537.3'\n",
    "    }\n",
    "    \n",
    "    try:\n",
    "        r = requests.get(url, headers=headers)\n",
    "        r.raise_for_status()  \n",
    "\n",
    "        soup = BeautifulSoup(r.text, 'html.parser')\n",
    "        results = soup.find_all('div', class_='text show-more__control')\n",
    "        reviews = [result.text.strip() for result in results]\n",
    "\n",
    "    except requests.exceptions.RequestException as e:\n",
    "        print(f\"An error occurred: {e}\")\n",
    "        reviews = []\n",
    "\n",
    "    return reviews\n",
    "\n",
    "movie_id = 'tt7286456'  # Joker movie ID\n",
    "reviews = scrape_imdb_reviews(movie_id)\n",
    "\n",
    "for idx, review in enumerate(reviews, 1):\n",
    "    print(f\"Review {idx}: {review}\\n\")"
   ]
  },
  {
   "cell_type": "code",
   "execution_count": 187,
   "metadata": {},
   "outputs": [],
   "source": [
    "import numpy as np\n",
    "import pandas as pd"
   ]
  },
  {
   "cell_type": "code",
   "execution_count": 194,
   "metadata": {},
   "outputs": [],
   "source": [
    "df = pd.DataFrame(np.array(reviews), columns=['review'])\n"
   ]
  },
  {
   "cell_type": "code",
   "execution_count": 195,
   "metadata": {},
   "outputs": [
    {
     "data": {
      "text/plain": [
       "\"There is no doubt that the movie was well thought of - from the plot to execution. I must praise Phoenix's superb acting. He managed to portray very believably the awkward social reject and also the crazy murderer that he became. I really think it's a role only few could do. It was also very interesting to watch how he deteriorated mentally and little by little gave up on trying to fit into society. Gotta hand it to the script writer - the plot was unpredictable.But...There wasn't anything too complex about Arthur's mental state. No deep psychological analysis, or a web of many deep factors that created a one of a kind psychotic maniac. Could it be that I was expecting too much? Very possible since I came with very high expectations after reading some reviews.\\nWhat doesn't have anything with expectations is that at the end he didn't remind much of the original Joker. He felt more like a simply society reject that went completely crazy and started killing people. Not that much different from many other serial killers or mass murderers. He didn't have the master mind that so much designated the Joker and made him different from a simple murderer.\\nAnother thing is that there were long parts of the movie that felt very dull.\\nAlso I found it hard to buy the reason behind the riots in the city and the role the Joker played in them. Even if taken into account that the poverty and anger was cooking for a long time in that society, it still feels somewhat absurd that killing three people in the subway made the joker so notorious.\\nIn conclusion, I can identify with the character which gave me a lasting impression of the movie, and this movie could have been very great if it was a movie about how a person that's rejected by society turns slowly into a serial killer. But as a movie about the Joker I felt it was lacking. Lacking the things that made the Joker actually the Joker, and not just another crazy murderer.\""
      ]
     },
     "execution_count": 195,
     "metadata": {},
     "output_type": "execute_result"
    }
   ],
   "source": [
    "df['review'].iloc[0]"
   ]
  },
  {
   "cell_type": "code",
   "execution_count": 196,
   "metadata": {},
   "outputs": [],
   "source": [
    "def sentiment_score(review):\n",
    "    tokens = tokenizer.encode(review, return_tensors='pt')\n",
    "    result = model(tokens)\n",
    "    return int(torch.argmax(result.logits))+1"
   ]
  },
  {
   "cell_type": "code",
   "execution_count": 198,
   "metadata": {},
   "outputs": [
    {
     "data": {
      "text/plain": [
       "4"
      ]
     },
     "execution_count": 198,
     "metadata": {},
     "output_type": "execute_result"
    }
   ],
   "source": [
    "sentiment_score(df['review'].iloc[1])"
   ]
  },
  {
   "cell_type": "code",
   "execution_count": 199,
   "metadata": {},
   "outputs": [],
   "source": [
    "df['sentiment'] = df['review'].apply(lambda x: sentiment_score(x[:512]))"
   ]
  },
  {
   "cell_type": "code",
   "execution_count": 200,
   "metadata": {},
   "outputs": [
    {
     "data": {
      "text/html": [
       "<div>\n",
       "<style scoped>\n",
       "    .dataframe tbody tr th:only-of-type {\n",
       "        vertical-align: middle;\n",
       "    }\n",
       "\n",
       "    .dataframe tbody tr th {\n",
       "        vertical-align: top;\n",
       "    }\n",
       "\n",
       "    .dataframe thead th {\n",
       "        text-align: right;\n",
       "    }\n",
       "</style>\n",
       "<table border=\"1\" class=\"dataframe\">\n",
       "  <thead>\n",
       "    <tr style=\"text-align: right;\">\n",
       "      <th></th>\n",
       "      <th>review</th>\n",
       "      <th>sentiment</th>\n",
       "    </tr>\n",
       "  </thead>\n",
       "  <tbody>\n",
       "    <tr>\n",
       "      <th>0</th>\n",
       "      <td>There is no doubt that the movie was well thou...</td>\n",
       "      <td>4</td>\n",
       "    </tr>\n",
       "    <tr>\n",
       "      <th>1</th>\n",
       "      <td>The movie affects you in a way that makes it p...</td>\n",
       "      <td>4</td>\n",
       "    </tr>\n",
       "    <tr>\n",
       "      <th>2</th>\n",
       "      <td>I thought this film was good but I just don't ...</td>\n",
       "      <td>3</td>\n",
       "    </tr>\n",
       "    <tr>\n",
       "      <th>3</th>\n",
       "      <td>Every once in a while a movie comes, that trul...</td>\n",
       "      <td>4</td>\n",
       "    </tr>\n",
       "    <tr>\n",
       "      <th>4</th>\n",
       "      <td>This is a movie that only those who have felt ...</td>\n",
       "      <td>5</td>\n",
       "    </tr>\n",
       "    <tr>\n",
       "      <th>5</th>\n",
       "      <td>Truly a masterpiece, The Best Hollywood film o...</td>\n",
       "      <td>5</td>\n",
       "    </tr>\n",
       "    <tr>\n",
       "      <th>6</th>\n",
       "      <td>Joaquin Phoenix gives a tour de force performa...</td>\n",
       "      <td>4</td>\n",
       "    </tr>\n",
       "    <tr>\n",
       "      <th>7</th>\n",
       "      <td>Most of the time movies are anticipated like t...</td>\n",
       "      <td>2</td>\n",
       "    </tr>\n",
       "    <tr>\n",
       "      <th>8</th>\n",
       "      <td>Let me start off by saying if Joaquin Phoneix ...</td>\n",
       "      <td>5</td>\n",
       "    </tr>\n",
       "    <tr>\n",
       "      <th>9</th>\n",
       "      <td>Do not really understand all the tens here. Su...</td>\n",
       "      <td>3</td>\n",
       "    </tr>\n",
       "    <tr>\n",
       "      <th>10</th>\n",
       "      <td>I get why some people hate this . It's because...</td>\n",
       "      <td>5</td>\n",
       "    </tr>\n",
       "    <tr>\n",
       "      <th>11</th>\n",
       "      <td>I went into this film expecting an all-time cl...</td>\n",
       "      <td>3</td>\n",
       "    </tr>\n",
       "    <tr>\n",
       "      <th>12</th>\n",
       "      <td>I know this is an unpopular opinion, but hones...</td>\n",
       "      <td>1</td>\n",
       "    </tr>\n",
       "    <tr>\n",
       "      <th>13</th>\n",
       "      <td>I have seen Joker yesterday at Venice an early...</td>\n",
       "      <td>4</td>\n",
       "    </tr>\n",
       "    <tr>\n",
       "      <th>14</th>\n",
       "      <td>It's sad that Joaquin missed Oscar for 'The gl...</td>\n",
       "      <td>5</td>\n",
       "    </tr>\n",
       "    <tr>\n",
       "      <th>15</th>\n",
       "      <td>I have just watched the Joker in Venice and I ...</td>\n",
       "      <td>4</td>\n",
       "    </tr>\n",
       "    <tr>\n",
       "      <th>16</th>\n",
       "      <td>This movie causes the audience to consider man...</td>\n",
       "      <td>4</td>\n",
       "    </tr>\n",
       "    <tr>\n",
       "      <th>17</th>\n",
       "      <td>The acting, cinematography, sound design, and ...</td>\n",
       "      <td>5</td>\n",
       "    </tr>\n",
       "    <tr>\n",
       "      <th>18</th>\n",
       "      <td>Need I say more? Everything about this Movie i...</td>\n",
       "      <td>5</td>\n",
       "    </tr>\n",
       "    <tr>\n",
       "      <th>19</th>\n",
       "      <td>When I heard everyone saying that this is the ...</td>\n",
       "      <td>2</td>\n",
       "    </tr>\n",
       "    <tr>\n",
       "      <th>20</th>\n",
       "      <td>I quit relying on critic reviews years ago... ...</td>\n",
       "      <td>1</td>\n",
       "    </tr>\n",
       "    <tr>\n",
       "      <th>21</th>\n",
       "      <td>Joaquin Phoenix did everything he could with t...</td>\n",
       "      <td>2</td>\n",
       "    </tr>\n",
       "    <tr>\n",
       "      <th>22</th>\n",
       "      <td>All hype and no substance. A pretty mediocre m...</td>\n",
       "      <td>1</td>\n",
       "    </tr>\n",
       "    <tr>\n",
       "      <th>23</th>\n",
       "      <td>I will stop watching movies if Joaquin Phoenix...</td>\n",
       "      <td>2</td>\n",
       "    </tr>\n",
       "    <tr>\n",
       "      <th>24</th>\n",
       "      <td>Joaquin Phoenix IS the joker. Phoenix gave a p...</td>\n",
       "      <td>3</td>\n",
       "    </tr>\n",
       "  </tbody>\n",
       "</table>\n",
       "</div>"
      ],
      "text/plain": [
       "                                               review  sentiment\n",
       "0   There is no doubt that the movie was well thou...          4\n",
       "1   The movie affects you in a way that makes it p...          4\n",
       "2   I thought this film was good but I just don't ...          3\n",
       "3   Every once in a while a movie comes, that trul...          4\n",
       "4   This is a movie that only those who have felt ...          5\n",
       "5   Truly a masterpiece, The Best Hollywood film o...          5\n",
       "6   Joaquin Phoenix gives a tour de force performa...          4\n",
       "7   Most of the time movies are anticipated like t...          2\n",
       "8   Let me start off by saying if Joaquin Phoneix ...          5\n",
       "9   Do not really understand all the tens here. Su...          3\n",
       "10  I get why some people hate this . It's because...          5\n",
       "11  I went into this film expecting an all-time cl...          3\n",
       "12  I know this is an unpopular opinion, but hones...          1\n",
       "13  I have seen Joker yesterday at Venice an early...          4\n",
       "14  It's sad that Joaquin missed Oscar for 'The gl...          5\n",
       "15  I have just watched the Joker in Venice and I ...          4\n",
       "16  This movie causes the audience to consider man...          4\n",
       "17  The acting, cinematography, sound design, and ...          5\n",
       "18  Need I say more? Everything about this Movie i...          5\n",
       "19  When I heard everyone saying that this is the ...          2\n",
       "20  I quit relying on critic reviews years ago... ...          1\n",
       "21  Joaquin Phoenix did everything he could with t...          2\n",
       "22  All hype and no substance. A pretty mediocre m...          1\n",
       "23  I will stop watching movies if Joaquin Phoenix...          2\n",
       "24  Joaquin Phoenix IS the joker. Phoenix gave a p...          3"
      ]
     },
     "execution_count": 200,
     "metadata": {},
     "output_type": "execute_result"
    }
   ],
   "source": [
    "df"
   ]
  },
  {
   "cell_type": "code",
   "execution_count": 201,
   "metadata": {},
   "outputs": [
    {
     "data": {
      "text/plain": [
       "'I know this is an unpopular opinion, but honestly this movie is overrated and boring. 2 hours felt like 3 and a half.I don\\'t buy the whole thing where he is invited to the show. The meta \"standup\" he made was extremely dull and boring. Then gets allowed to broadcast for that long without being interrupted, also being transported in the most shitty police-car ever after that, it\\'s just not believeable enough to me.He also acted the same when he was on meds aswell as off, so that part didn\\'t make sense either. The police must also be really not catching this guy faster after the homocide.It has some good parts but they can be boiled down to maybe 5 minutes.\\nIs this a movie I would watch again? Probably not.'"
      ]
     },
     "execution_count": 201,
     "metadata": {},
     "output_type": "execute_result"
    }
   ],
   "source": [
    "df['review'].iloc[12]"
   ]
  }
 ],
 "metadata": {
  "kernelspec": {
   "display_name": "base",
   "language": "python",
   "name": "python3"
  },
  "language_info": {
   "codemirror_mode": {
    "name": "ipython",
    "version": 3
   },
   "file_extension": ".py",
   "mimetype": "text/x-python",
   "name": "python",
   "nbconvert_exporter": "python",
   "pygments_lexer": "ipython3",
   "version": "3.11.8"
  }
 },
 "nbformat": 4,
 "nbformat_minor": 2
}
